{
 "cells": [
  {
   "cell_type": "code",
   "execution_count": 1,
   "metadata": {},
   "outputs": [],
   "source": [
    "import os \n",
    "import sys\n",
    "import pickle\n",
    "import pandas as pd\n",
    "pd.set_option('display.max_rows', 300)\n",
    "pd.set_option('display.max_columns', 300)\n",
    "\n",
    "import numpy as np\n",
    "from sklearn.manifold import TSNE\n",
    "from sklearn.decomposition import TruncatedSVD\n",
    "\n",
    "import matplotlib.pyplot as plt\n",
    "%matplotlib inline\n",
    "plt.style.use('ggplot')\n",
    "\n",
    "import warnings\n",
    "warnings.filterwarnings('ignore')\n",
    "\n",
    "import utils\n",
    "import data_prep_2 as prep"
   ]
  },
  {
   "cell_type": "code",
   "execution_count": 2,
   "metadata": {},
   "outputs": [
    {
     "name": "stdout",
     "output_type": "stream",
     "text": [
      "INFO Data set PartD_Prescriber_PUF_NPI_15.zip\n",
      "INFO from url: http://download.cms.gov/Research-Statistics-Data-and-Systems/Statistics-Trends-and-Reports/Medicare-Provider-Charge-Data/Downloads/PartD_Prescriber_PUF_NPI_15.zip\n",
      "INFO successfully downloaded and uncompressed!\n",
      "INFO NPI dataset is loaded\n",
      "INFO Number of samples: 1102268\n",
      "INFO Number of features: 84\n"
     ]
    }
   ],
   "source": [
    "npi = prep.clean_npi(npi_url = prep.npi_url)"
   ]
  },
  {
   "cell_type": "code",
   "execution_count": 25,
   "metadata": {},
   "outputs": [
    {
     "data": {
      "text/html": [
       "<div>\n",
       "<table border=\"1\" class=\"dataframe\">\n",
       "  <thead>\n",
       "    <tr style=\"text-align: right;\">\n",
       "      <th></th>\n",
       "      <th>gender</th>\n",
       "      <th>zipcode</th>\n",
       "      <th>state</th>\n",
       "      <th>specialty</th>\n",
       "      <th>medicare_status</th>\n",
       "      <th>pts_risk_score</th>\n",
       "      <th>num_pts</th>\n",
       "      <th>age_pts</th>\n",
       "      <th>total_day_supply</th>\n",
       "      <th>op_day_supply</th>\n",
       "      <th>op_rate</th>\n",
       "      <th>op_prescriber</th>\n",
       "    </tr>\n",
       "    <tr>\n",
       "      <th>npi</th>\n",
       "      <th></th>\n",
       "      <th></th>\n",
       "      <th></th>\n",
       "      <th></th>\n",
       "      <th></th>\n",
       "      <th></th>\n",
       "      <th></th>\n",
       "      <th></th>\n",
       "      <th></th>\n",
       "      <th></th>\n",
       "      <th></th>\n",
       "      <th></th>\n",
       "    </tr>\n",
       "  </thead>\n",
       "  <tbody>\n",
       "    <tr>\n",
       "      <th>1912175340</th>\n",
       "      <td>M</td>\n",
       "      <td>95045</td>\n",
       "      <td>CA</td>\n",
       "      <td>General Surgery</td>\n",
       "      <td>E</td>\n",
       "      <td>1.2440</td>\n",
       "      <td>52.0</td>\n",
       "      <td>66.0</td>\n",
       "      <td>1094</td>\n",
       "      <td>225.0</td>\n",
       "      <td>15.09</td>\n",
       "      <td>True</td>\n",
       "    </tr>\n",
       "    <tr>\n",
       "      <th>1417051921</th>\n",
       "      <td>F</td>\n",
       "      <td>74015</td>\n",
       "      <td>OK</td>\n",
       "      <td>Physician Assistant</td>\n",
       "      <td>E</td>\n",
       "      <td>0.8248</td>\n",
       "      <td>195.0</td>\n",
       "      <td>67.0</td>\n",
       "      <td>2905</td>\n",
       "      <td>73.0</td>\n",
       "      <td>7.27</td>\n",
       "      <td>True</td>\n",
       "    </tr>\n",
       "    <tr>\n",
       "      <th>1801093968</th>\n",
       "      <td>F</td>\n",
       "      <td>48183</td>\n",
       "      <td>MI</td>\n",
       "      <td>Emergency Medicine</td>\n",
       "      <td>E</td>\n",
       "      <td>1.6859</td>\n",
       "      <td>133.0</td>\n",
       "      <td>67.0</td>\n",
       "      <td>2426</td>\n",
       "      <td>234.0</td>\n",
       "      <td>22.65</td>\n",
       "      <td>True</td>\n",
       "    </tr>\n",
       "    <tr>\n",
       "      <th>1588763981</th>\n",
       "      <td>M</td>\n",
       "      <td>96819</td>\n",
       "      <td>HI</td>\n",
       "      <td>Urology</td>\n",
       "      <td>E</td>\n",
       "      <td>1.3493</td>\n",
       "      <td>246.0</td>\n",
       "      <td>77.0</td>\n",
       "      <td>54808</td>\n",
       "      <td>423.0</td>\n",
       "      <td>5.00</td>\n",
       "      <td>True</td>\n",
       "    </tr>\n",
       "    <tr>\n",
       "      <th>1194753186</th>\n",
       "      <td>M</td>\n",
       "      <td>49546</td>\n",
       "      <td>MI</td>\n",
       "      <td>Ophthalmology</td>\n",
       "      <td>E</td>\n",
       "      <td>1.4493</td>\n",
       "      <td>123.0</td>\n",
       "      <td>72.0</td>\n",
       "      <td>14683</td>\n",
       "      <td>32.0</td>\n",
       "      <td>2.73</td>\n",
       "      <td>True</td>\n",
       "    </tr>\n",
       "  </tbody>\n",
       "</table>\n",
       "</div>"
      ],
      "text/plain": [
       "           gender zipcode state            specialty medicare_status  \\\n",
       "npi                                                                    \n",
       "1912175340      M   95045    CA      General Surgery               E   \n",
       "1417051921      F   74015    OK  Physician Assistant               E   \n",
       "1801093968      F   48183    MI   Emergency Medicine               E   \n",
       "1588763981      M   96819    HI              Urology               E   \n",
       "1194753186      M   49546    MI        Ophthalmology               E   \n",
       "\n",
       "            pts_risk_score  num_pts  age_pts  total_day_supply  op_day_supply  \\\n",
       "npi                                                                             \n",
       "1912175340          1.2440     52.0     66.0              1094          225.0   \n",
       "1417051921          0.8248    195.0     67.0              2905           73.0   \n",
       "1801093968          1.6859    133.0     67.0              2426          234.0   \n",
       "1588763981          1.3493    246.0     77.0             54808          423.0   \n",
       "1194753186          1.4493    123.0     72.0             14683           32.0   \n",
       "\n",
       "            op_rate op_prescriber  \n",
       "npi                                \n",
       "1912175340    15.09          True  \n",
       "1417051921     7.27          True  \n",
       "1801093968    22.65          True  \n",
       "1588763981     5.00          True  \n",
       "1194753186     2.73          True  "
      ]
     },
     "execution_count": 25,
     "metadata": {},
     "output_type": "execute_result"
    }
   ],
   "source": [
    "npi = npi.dropna(axis=0, how='any')\n",
    "npi.head()"
   ]
  },
  {
   "cell_type": "code",
   "execution_count": 26,
   "metadata": {},
   "outputs": [
    {
     "data": {
      "text/plain": [
       "(694374, 12)"
      ]
     },
     "execution_count": 26,
     "metadata": {},
     "output_type": "execute_result"
    }
   ],
   "source": [
    "npi.shape"
   ]
  },
  {
   "cell_type": "code",
   "execution_count": 27,
   "metadata": {},
   "outputs": [
    {
     "name": "stdout",
     "output_type": "stream",
     "text": [
      "INFO Data set PartD_Prescriber_PUF_NPI_DRUG_15.zip\n",
      "INFO from url: http://download.cms.gov/Research-Statistics-Data-and-Systems/Statistics-Trends-and-Reports/Medicare-Provider-Charge-Data/Downloads/PartD_Prescriber_PUF_NPI_DRUG_15.zip\n",
      "INFO successfully downloaded and uncompressed!\n",
      "INFO Making wide table from the chunk\n",
      "INFO Table size: (8546, 1619)\n"
     ]
    }
   ],
   "source": [
    "reader = prep.table_reader(drugs_url=prep.drugs_url, dest_dir=\"dataset\")\n",
    "drugs = reader.get_chunk(250000)\n",
    "drugs = prep.clean_drugs(drugs)\n",
    "table = prep.make_table(drugs)"
   ]
  },
  {
   "cell_type": "code",
   "execution_count": 29,
   "metadata": {},
   "outputs": [],
   "source": [
    "npi_small = npi.drop(['zipcode'], axis=1)\n",
    "prescriber = table.join(npi_small, how='inner')\n",
    "prescriber = pd.get_dummies(prescriber)\n",
    "\n",
    "reduced = TruncatedSVD(n_components=50, random_state=0).fit_transform(prescriber)"
   ]
  },
  {
   "cell_type": "code",
   "execution_count": 45,
   "metadata": {},
   "outputs": [
    {
     "name": "stdout",
     "output_type": "stream",
     "text": [
      "[t-SNE] Computing pairwise distances...\n",
      "[t-SNE] Computing 121 nearest neighbors...\n",
      "[t-SNE] Computed conditional probabilities for sample 1000 / 6112\n",
      "[t-SNE] Computed conditional probabilities for sample 2000 / 6112\n",
      "[t-SNE] Computed conditional probabilities for sample 3000 / 6112\n",
      "[t-SNE] Computed conditional probabilities for sample 4000 / 6112\n",
      "[t-SNE] Computed conditional probabilities for sample 5000 / 6112\n",
      "[t-SNE] Computed conditional probabilities for sample 6000 / 6112\n",
      "[t-SNE] Computed conditional probabilities for sample 6112 / 6112\n",
      "[t-SNE] Mean sigma: 38.404357\n",
      "[t-SNE] Iteration 25: error = 1.5780617, gradient norm = 0.0000164\n",
      "[t-SNE] Iteration 25: gradient norm 0.000016. Finished.\n",
      "[t-SNE] Iteration 50: error = 1.5761249, gradient norm = 0.0002294\n",
      "[t-SNE] Iteration 50: gradient norm 0.000229. Finished.\n",
      "[t-SNE] KL divergence after 50 iterations with early exaggeration: 1.576125\n",
      "[t-SNE] Iteration 75: error = 1.5798345, gradient norm = 0.0043340\n",
      "[t-SNE] Iteration 100: error = 1.5969664, gradient norm = 0.1311610\n",
      "[t-SNE] Iteration 125: error = 1.6294762, gradient norm = 7.5400038\n",
      "[t-SNE] Iteration 125: did not make any progress during the last 30 episodes. Finished.\n",
      "[t-SNE] Error after 125 iterations: 1.576125\n"
     ]
    }
   ],
   "source": [
    "X_embedded = TSNE(learning_rate=100, perplexity=40, verbose=2).fit_transform(reduced)"
   ]
  },
  {
   "cell_type": "code",
   "execution_count": 47,
   "metadata": {
    "scrolled": true
   },
   "outputs": [
    {
     "data": {
      "image/png": "[encoded data removed]",
      "text/plain": [
       "<matplotlib.figure.Figure at 0x1228dfc50>"
      ]
     },
     "metadata": {},
     "output_type": "display_data"
    }
   ],
   "source": [
    "plt.scatter(X_embedded[:, 0], X_embedded[:, 1], c=prescriber.op_prescriber)\n",
    "plt.show()"
   ]
  },
  {
   "cell_type": "markdown",
   "metadata": {},
   "source": [
    "Okay, the classification problem would be hard"
   ]
  },
  {
   "cell_type": "code",
   "execution_count": null,
   "metadata": {
    "collapsed": true
   },
   "outputs": [],
   "source": []
  },
  {
   "cell_type": "code",
   "execution_count": null,
   "metadata": {
    "collapsed": true
   },
   "outputs": [],
   "source": []
  },
  {
   "cell_type": "code",
   "execution_count": null,
   "metadata": {
    "collapsed": true
   },
   "outputs": [],
   "source": []
  },
  {
   "cell_type": "code",
   "execution_count": null,
   "metadata": {
    "collapsed": true
   },
   "outputs": [],
   "source": []
  },
  {
   "cell_type": "code",
   "execution_count": null,
   "metadata": {
    "collapsed": true
   },
   "outputs": [],
   "source": []
  }
 ],
 "metadata": {
  "kernelspec": {
   "display_name": "Python 3",
   "language": "python",
   "name": "python3"
  },
  "language_info": {
   "codemirror_mode": {
    "name": "ipython",
    "version": 3
   },
   "file_extension": ".py",
   "mimetype": "text/x-python",
   "name": "python",
   "nbconvert_exporter": "python",
   "pygments_lexer": "ipython3",
   "version": "3.5.3"
  }
 },
 "nbformat": 4,
 "nbformat_minor": 2
}
