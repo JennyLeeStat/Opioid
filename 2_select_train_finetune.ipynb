{
 "cells": [
  {
   "cell_type": "code",
   "execution_count": 1,
   "metadata": {
    "collapsed": true
   },
   "outputs": [],
   "source": [
    "import os \n",
    "import sys\n",
    "import time\n",
    "import glob\n",
    "import pickle\n",
    "import itertools\n",
    "import logging\n",
    "import pyprind\n",
    "import pandas as pd\n",
    "import numpy as np\n",
    "import seaborn as sns\n",
    "import matplotlib.pyplot as plt\n",
    "sns.set(style='whitegrid')\n",
    "%matplotlib inline\n",
    "\n",
    "\n",
    "from sklearn.preprocessing import LabelEncoder\n",
    "from sklearn.linear_model import SGDClassifier\n",
    "from sklearn.linear_model import PassiveAggressiveClassifier\n",
    "from sklearn.linear_model import Perceptron\n",
    "from sklearn.naive_bayes import MultinomialNB\n",
    "from sklearn.metrics import fbeta_score, accuracy_score, confusion_matrix\n",
    "from sklearn.utils import shuffle\n",
    "\n",
    "import utils\n",
    "import data_prep as prep\n",
    "import train_select as ts"
   ]
  },
  {
   "cell_type": "code",
   "execution_count": 2,
   "metadata": {
    "collapsed": true
   },
   "outputs": [],
   "source": [
    "random_state = 42\n",
    "batch_dir = \"dataset/batches\"\n",
    "val_ratio = .15\n",
    "batch_size = 256\n",
    "n_epochs = 50\n",
    "validate_every = 50\n",
    "print_every = batch_size * 2"
   ]
  },
  {
   "cell_type": "code",
   "execution_count": 3,
   "metadata": {
    "scrolled": true
   },
   "outputs": [
    {
     "name": "stdout",
     "output_type": "stream",
     "text": [
      "INFO Data set PartD_Prescriber_PUF_NPI_15.zip\n",
      "INFO from url: http://download.cms.gov/Research-Statistics-Data-and-Systems/Statistics-Trends-and-Reports/Medicare-Provider-Charge-Data/Downloads/PartD_Prescriber_PUF_NPI_15.zip\n",
      "INFO successfully downloaded and uncompressed\n",
      "INFO Data cleaning completed\n",
      "INFO New features are added\n",
      "\n",
      "=========== Benchmark score =========== \n",
      "Accuracy score: 0.1537\n",
      "F score: 0.4759\n"
     ]
    }
   ],
   "source": [
    "npi = prep.prepare_npi(prep.npi_url)\n",
    "\n",
    "naive = [True] * len(npi)\n",
    "naive_acc = accuracy_score(naive, npi['op_longer'])\n",
    "naive_f = fbeta_score(naive, npi['op_longer'], beta=.5)\n",
    "print('')\n",
    "print(\"=========== Benchmark score =========== \")\n",
    "print(\"Accuracy score: {:.4f}\".format(naive_acc))\n",
    "print(\"F score: {:.4f}\".format(naive_f))"
   ]
  },
  {
   "cell_type": "markdown",
   "metadata": {},
   "source": [
    "We will compare five candidate classification models that support partial fit - linear support vector machine, logistic regression, perceptron, passive aggressive classifier, and Naive Bayes multinormial classifier. "
   ]
  },
  {
   "cell_type": "code",
   "execution_count": 4,
   "metadata": {
    "collapsed": true
   },
   "outputs": [],
   "source": [
    "partial_fit_classifiers = {\n",
    "    'SGD-SVM': SGDClassifier(random_state=random_state, loss='hinge'),\n",
    "    'SGD-Log': SGDClassifier(random_state=random_state, loss='log'),\n",
    "    'Perceptron': Perceptron(random_state=random_state),\n",
    "    'NB Multinomial': MultinomialNB(alpha=0.01),\n",
    "    'Passive-Aggressive': PassiveAggressiveClassifier(random_state=random_state)\n",
    "}"
   ]
  },
  {
   "cell_type": "markdown",
   "metadata": {},
   "source": [
    "# Split datasets "
   ]
  },
  {
   "cell_type": "code",
   "execution_count": 5,
   "metadata": {
    "scrolled": false
   },
   "outputs": [
    {
     "name": "stdout",
     "output_type": "stream",
     "text": [
      "number of train batches: 60\n",
      "Number of validation batches: 10\n",
      "number of test batches: 12\n"
     ]
    }
   ],
   "source": [
    "train_batch_names, test_batch_names, val_batch_names = ts.get_batchnames(split_val=True)"
   ]
  },
  {
   "cell_type": "code",
   "execution_count": 6,
   "metadata": {},
   "outputs": [
    {
     "name": "stdout",
     "output_type": "stream",
     "text": [
      "INFO Concatenating 10 batches\n"
     ]
    },
    {
     "name": "stderr",
     "output_type": "stream",
     "text": [
      "0% [##########] 100% | ETA: 00:00:00\n",
      "Total time elapsed: 00:00:04\n"
     ]
    }
   ],
   "source": [
    "val_features, val_labels = ts.concat_batches(val_batch_names)"
   ]
  },
  {
   "cell_type": "markdown",
   "metadata": {},
   "source": [
    "\n",
    "\n",
    "# Train on the training batches"
   ]
  },
  {
   "cell_type": "code",
   "execution_count": 7,
   "metadata": {
    "collapsed": true
   },
   "outputs": [],
   "source": [
    "def initialize_stats(partial_fit_classifiers):\n",
    "    results = {}\n",
    "    for clf_name in partial_fit_classifiers:\n",
    "        stats = {\n",
    "            'n_train': [],\n",
    "            'train_time': [],\n",
    "            'pred_time': [],\n",
    "            'acc_train': [],\n",
    "            'acc_test': [],\n",
    "            'f_train': [],\n",
    "            'f_test': []\n",
    "        }\n",
    "        results[ clf_name ] = stats\n",
    "    return results"
   ]
  },
  {
   "cell_type": "code",
   "execution_count": 8,
   "metadata": {
    "collapsed": true
   },
   "outputs": [],
   "source": [
    "def train_predict(partial_fit_classifiers, train_batch_names, val_features, val_labels):\n",
    "    classes = np.array([ 0, 1 ])\n",
    "    results = initialize_stats(partial_fit_classifiers)\n",
    "    steps = 0\n",
    "\n",
    "    for batch_i in range(len(train_batch_names)):\n",
    "        for X_train, y_train in ts.load_train_batches(train_batch_names, batch_i, batch_size):\n",
    "            for clf_name, clf in partial_fit_classifiers.items():\n",
    "                steps += 1\n",
    "                # train via partial fit\n",
    "                tick = time.time()\n",
    "                clf.partial_fit(X_train, y_train, classes=classes)\n",
    "                train_time = time.time() - tick\n",
    "\n",
    "                # predict\n",
    "                tick = time.time()\n",
    "                pred_train = clf.predict(X_train)\n",
    "                pred_time = time.time() - tick\n",
    "\n",
    "                pred_train = clf.predict(X_train)\n",
    "                results[ clf_name ][ 'train_time' ].append(train_time)\n",
    "                results[ clf_name ][ 'pred_time' ].append(pred_time)\n",
    "                results[ clf_name ][ 'n_train' ].append(X_train.shape[ 0 ])\n",
    "                results[ clf_name ][ 'acc_train' ].append(accuracy_score(y_train, pred_train))\n",
    "                results[ clf_name ][ 'f_train' ].append(fbeta_score(y_train, pred_train, beta=.5))\n",
    "\n",
    "        X_val, y_val = ts.load_random_test_batch(val_features, val_labels, batch_size)\n",
    "        for clf_name, clf in partial_fit_classifiers.items():\n",
    "            pred_val = clf.predict(X_val)\n",
    "            results[ clf_name ][ 'acc_test' ].append(accuracy_score(y_val, pred_val))\n",
    "            results[ clf_name ][ 'f_test' ].append(fbeta_score(y_val, pred_val, beta=.5))\n",
    "            \n",
    "\n",
    "        logging.info(\n",
    "            \"batch {} / {} ================================\".format(batch_i + 1, len(train_batch_names)))\n",
    "        # logging.info(\"Number of validation sample: {}\".format(X_train.shape[ 0 ]))\n",
    "        logging.info(\"F-beta score (beta=0.5) on training set:\")\n",
    "        logging.info(\"SGD-SVM: {}\".format(results[ 'SGD-SVM' ][ 'f_train' ][ -1 ]))\n",
    "        logging.info(\"SGD-Log: {}\".format(results[ 'SGD-Log' ][ 'f_train' ][ -1 ]))\n",
    "        logging.info(\"Perceptron: {}\".format(results[ 'Perceptron' ][ 'f_train' ][ -1 ]))\n",
    "        logging.info(\"NB Multinomial: {}\".format(results[ 'NB Multinomial' ][ 'f_train' ][ -1 ]))\n",
    "        logging.info(\"PA: {}\".format(results[ 'Passive-Aggressive' ][ 'f_train' ][ -1 ]))\n",
    "        # logging.info(\"==========================================\")\n",
    "\n",
    "    return results"
   ]
  },
  {
   "cell_type": "code",
   "execution_count": 9,
   "metadata": {
    "scrolled": true
   },
   "outputs": [
    {
     "name": "stdout",
     "output_type": "stream",
     "text": [
      "INFO batch 1 / 60 ================================\n",
      "INFO F-beta score (beta=0.5) on training set:\n",
      "INFO SGD-SVM: 0.6440677966101696\n",
      "INFO SGD-Log: 0.6109324758842443\n",
      "INFO Perceptron: 0.5752212389380531\n",
      "INFO NB Multinomial: 0.6477732793522267\n",
      "INFO PA: 0.6507936507936508\n",
      "INFO batch 2 / 60 ================================\n",
      "INFO F-beta score (beta=0.5) on training set:\n",
      "INFO SGD-SVM: 0.7333333333333333\n",
      "INFO SGD-Log: 0.7142857142857142\n",
      "INFO Perceptron: 0.7971014492753623\n",
      "INFO NB Multinomial: 0.7272727272727274\n",
      "INFO PA: 0.7333333333333333\n",
      "INFO batch 3 / 60 ================================\n",
      "INFO F-beta score (beta=0.5) on training set:\n",
      "INFO SGD-SVM: 0.743801652892562\n",
      "INFO SGD-Log: 0.7092198581560284\n",
      "INFO Perceptron: 0.7560975609756098\n",
      "INFO NB Multinomial: 0.5809128630705395\n",
      "INFO PA: 0.7182320441988951\n",
      "INFO batch 4 / 60 ================================\n",
      "INFO F-beta score (beta=0.5) on training set:\n",
      "INFO SGD-SVM: 0.6493506493506493\n",
      "INFO SGD-Log: 0.6741573033707865\n",
      "INFO Perceptron: 0.7664233576642336\n",
      "INFO NB Multinomial: 0.5248618784530387\n",
      "INFO PA: 0.7731958762886598\n",
      "INFO batch 5 / 60 ================================\n",
      "INFO F-beta score (beta=0.5) on training set:\n",
      "INFO SGD-SVM: 0.7692307692307692\n",
      "INFO SGD-Log: 0.7692307692307692\n",
      "INFO Perceptron: 0.6818181818181818\n",
      "INFO NB Multinomial: 0.4444444444444445\n",
      "INFO PA: 0.7894736842105262\n",
      "INFO batch 6 / 60 ================================\n",
      "INFO F-beta score (beta=0.5) on training set:\n",
      "INFO SGD-SVM: 0.5180180180180181\n",
      "INFO SGD-Log: 0.603448275862069\n",
      "INFO Perceptron: 0.6176470588235294\n",
      "INFO NB Multinomial: 0.4210526315789474\n",
      "INFO PA: 0.646067415730337\n",
      "INFO batch 7 / 60 ================================\n",
      "INFO F-beta score (beta=0.5) on training set:\n",
      "INFO SGD-SVM: 0.45977011494252873\n",
      "INFO SGD-Log: 0.5633802816901409\n",
      "INFO Perceptron: 0.6862745098039216\n",
      "INFO NB Multinomial: 0.528169014084507\n",
      "INFO PA: 0.5985915492957746\n",
      "INFO batch 8 / 60 ================================\n",
      "INFO F-beta score (beta=0.5) on training set:\n",
      "INFO SGD-SVM: 0.6369426751592357\n",
      "INFO SGD-Log: 0.7251908396946565\n",
      "INFO Perceptron: 0.6851851851851852\n",
      "INFO NB Multinomial: 0.6395348837209304\n",
      "INFO PA: 0.7824427480916031\n",
      "INFO batch 9 / 60 ================================\n",
      "INFO F-beta score (beta=0.5) on training set:\n",
      "INFO SGD-SVM: 0.625\n",
      "INFO SGD-Log: 0.75\n",
      "INFO Perceptron: 0.75\n",
      "INFO NB Multinomial: 0.625\n",
      "INFO PA: 0.75\n",
      "INFO batch 10 / 60 ================================\n",
      "INFO F-beta score (beta=0.5) on training set:\n",
      "INFO SGD-SVM: 0.6842105263157895\n",
      "INFO SGD-Log: 0.7022471910112359\n",
      "INFO Perceptron: 0.6194690265486725\n",
      "INFO NB Multinomial: 0.6481481481481481\n",
      "INFO PA: 0.6637168141592921\n",
      "INFO batch 11 / 60 ================================\n",
      "INFO F-beta score (beta=0.5) on training set:\n",
      "INFO SGD-SVM: 0.8163265306122449\n",
      "INFO SGD-Log: 0.75\n",
      "INFO Perceptron: 0.7432432432432432\n",
      "INFO NB Multinomial: 0.55\n",
      "INFO PA: 0.5\n",
      "INFO batch 12 / 60 ================================\n",
      "INFO F-beta score (beta=0.5) on training set:\n",
      "INFO SGD-SVM: 0.5\n",
      "INFO SGD-Log: 0.6578947368421053\n",
      "INFO Perceptron: 0.564516129032258\n",
      "INFO NB Multinomial: 0.40540540540540543\n",
      "INFO PA: 0.6578947368421053\n",
      "INFO batch 13 / 60 ================================\n",
      "INFO F-beta score (beta=0.5) on training set:\n",
      "INFO SGD-SVM: 1.0\n",
      "INFO SGD-Log: 1.0\n",
      "INFO Perceptron: 1.0\n",
      "INFO NB Multinomial: 1.0\n",
      "INFO PA: 1.0\n",
      "INFO batch 14 / 60 ================================\n",
      "INFO F-beta score (beta=0.5) on training set:\n",
      "INFO SGD-SVM: 0.7471264367816093\n",
      "INFO SGD-Log: 0.8411214953271029\n",
      "INFO Perceptron: 0.8778625954198475\n",
      "INFO NB Multinomial: 0.6802721088435374\n",
      "INFO PA: 0.8585858585858587\n",
      "INFO batch 15 / 60 ================================\n",
      "INFO F-beta score (beta=0.5) on training set:\n",
      "INFO SGD-SVM: 0.7462686567164178\n",
      "INFO SGD-Log: 0.7191780821917808\n",
      "INFO Perceptron: 0.7746478873239436\n",
      "INFO NB Multinomial: 0.5\n",
      "INFO PA: 0.7727272727272727\n",
      "INFO batch 16 / 60 ================================\n",
      "INFO F-beta score (beta=0.5) on training set:\n",
      "INFO SGD-SVM: 0.7407407407407408\n",
      "INFO SGD-Log: 0.7407407407407408\n",
      "INFO Perceptron: 0.6976744186046512\n",
      "INFO NB Multinomial: 0.2631578947368421\n",
      "INFO PA: 0.8571428571428571\n",
      "INFO batch 17 / 60 ================================\n",
      "INFO F-beta score (beta=0.5) on training set:\n",
      "INFO SGD-SVM: 0.7786885245901638\n",
      "INFO SGD-Log: 0.6962025316455696\n",
      "INFO Perceptron: 0.8018867924528302\n",
      "INFO NB Multinomial: 0.6626506024096386\n",
      "INFO PA: 0.7843137254901961\n",
      "INFO batch 18 / 60 ================================\n",
      "INFO F-beta score (beta=0.5) on training set:\n",
      "INFO SGD-SVM: 0.6837606837606837\n",
      "INFO SGD-Log: 0.6880733944954128\n",
      "INFO Perceptron: 0.743801652892562\n",
      "INFO NB Multinomial: 0.7216494845360824\n",
      "INFO PA: 0.6687898089171975\n",
      "INFO batch 19 / 60 ================================\n",
      "INFO F-beta score (beta=0.5) on training set:\n",
      "INFO SGD-SVM: 0.7251908396946565\n",
      "INFO SGD-Log: 0.7476635514018692\n",
      "INFO Perceptron: 0.7142857142857143\n",
      "INFO NB Multinomial: 0.6134969325153374\n",
      "INFO PA: 0.6962025316455697\n",
      "INFO batch 20 / 60 ================================\n",
      "INFO F-beta score (beta=0.5) on training set:\n",
      "INFO SGD-SVM: 1.0\n",
      "INFO SGD-Log: 1.0\n",
      "INFO Perceptron: 1.0\n",
      "INFO NB Multinomial: 0.9375\n",
      "INFO PA: 1.0\n",
      "INFO batch 21 / 60 ================================\n",
      "INFO F-beta score (beta=0.5) on training set:\n",
      "INFO SGD-SVM: 0.8333333333333334\n",
      "INFO SGD-Log: 0.8999999999999999\n",
      "INFO Perceptron: 0.8088235294117647\n",
      "INFO NB Multinomial: 0.7258064516129032\n",
      "INFO PA: 0.9375\n",
      "INFO batch 22 / 60 ================================\n",
      "INFO F-beta score (beta=0.5) on training set:\n",
      "INFO SGD-SVM: 0.7627118644067797\n",
      "INFO SGD-Log: 0.7456140350877193\n",
      "INFO Perceptron: 0.5000000000000001\n",
      "INFO NB Multinomial: 0.5645161290322581\n",
      "INFO PA: 0.5582524271844659\n",
      "INFO batch 23 / 60 ================================\n",
      "INFO F-beta score (beta=0.5) on training set:\n",
      "INFO SGD-SVM: 0.5625\n",
      "INFO SGD-Log: 0.7000000000000001\n",
      "INFO Perceptron: 0.29411764705882354\n",
      "INFO NB Multinomial: 0.6147540983606558\n",
      "INFO PA: 0.7670454545454546\n",
      "INFO batch 24 / 60 ================================\n",
      "INFO F-beta score (beta=0.5) on training set:\n",
      "INFO SGD-SVM: 0.7456140350877194\n",
      "INFO SGD-Log: 0.7203389830508475\n",
      "INFO Perceptron: 0.7377049180327869\n",
      "INFO NB Multinomial: 0.6363636363636365\n",
      "INFO PA: 0.6923076923076923\n",
      "INFO batch 25 / 60 ================================\n",
      "INFO F-beta score (beta=0.5) on training set:\n",
      "INFO SGD-SVM: 0.7142857142857144\n",
      "INFO SGD-Log: 0.7999999999999999\n",
      "INFO Perceptron: 0.7225433526011561\n",
      "INFO NB Multinomial: 0.5622489959839357\n",
      "INFO PA: 0.6930693069306931\n",
      "INFO batch 26 / 60 ================================\n",
      "INFO F-beta score (beta=0.5) on training set:\n",
      "INFO SGD-SVM: 0.0\n",
      "INFO SGD-Log: 0.0\n",
      "INFO Perceptron: 0.0\n",
      "INFO NB Multinomial: 0.0\n",
      "INFO PA: 0.0\n",
      "INFO batch 27 / 60 ================================\n",
      "INFO F-beta score (beta=0.5) on training set:\n",
      "INFO SGD-SVM: 0.5508474576271186\n",
      "INFO SGD-Log: 0.5750000000000001\n",
      "INFO Perceptron: 0.5357142857142858\n",
      "INFO NB Multinomial: 0.5965909090909092\n",
      "INFO PA: 0.576923076923077\n",
      "INFO batch 28 / 60 ================================\n",
      "INFO F-beta score (beta=0.5) on training set:\n",
      "INFO SGD-SVM: 0.4716981132075472\n",
      "INFO SGD-Log: 0.40816326530612246\n",
      "INFO Perceptron: 0.8256880733944955\n",
      "INFO NB Multinomial: 0.6222222222222222\n",
      "INFO PA: 0.6153846153846154\n",
      "INFO batch 29 / 60 ================================\n",
      "INFO F-beta score (beta=0.5) on training set:\n",
      "INFO SGD-SVM: 0.7666666666666667\n",
      "INFO SGD-Log: 0.8582089552238807\n",
      "INFO Perceptron: 0.7281553398058251\n",
      "INFO NB Multinomial: 0.5476190476190476\n",
      "INFO PA: 0.8009708737864079\n",
      "INFO batch 30 / 60 ================================\n",
      "INFO F-beta score (beta=0.5) on training set:\n",
      "INFO SGD-SVM: 0.7489878542510121\n",
      "INFO SGD-Log: 0.8040201005025126\n",
      "INFO Perceptron: 0.6270096463022508\n",
      "INFO NB Multinomial: 0.5605381165919282\n",
      "INFO PA: 0.6610169491525424\n",
      "INFO batch 31 / 60 ================================\n",
      "INFO F-beta score (beta=0.5) on training set:\n",
      "INFO SGD-SVM: 0.7894736842105262\n",
      "INFO SGD-Log: 0.6666666666666666\n",
      "INFO Perceptron: 0.4545454545454545\n",
      "INFO NB Multinomial: 0.6363636363636365\n",
      "INFO PA: 0.7894736842105262\n",
      "INFO batch 32 / 60 ================================\n",
      "INFO F-beta score (beta=0.5) on training set:\n",
      "INFO SGD-SVM: 0.0\n",
      "INFO SGD-Log: 0.0\n",
      "INFO Perceptron: 0.0\n",
      "INFO NB Multinomial: 0.0\n",
      "INFO PA: 0.5555555555555556\n",
      "INFO batch 33 / 60 ================================\n",
      "INFO F-beta score (beta=0.5) on training set:\n"
     ]
    },
    {
     "name": "stdout",
     "output_type": "stream",
     "text": [
      "INFO SGD-SVM: 0.8620689655172415\n",
      "INFO SGD-Log: 0.8064516129032259\n",
      "INFO Perceptron: 0.8333333333333334\n",
      "INFO NB Multinomial: 0.7407407407407408\n",
      "INFO PA: 0.8823529411764706\n",
      "INFO batch 34 / 60 ================================\n",
      "INFO F-beta score (beta=0.5) on training set:\n",
      "INFO SGD-SVM: 0.6701030927835052\n",
      "INFO SGD-Log: 0.7303370786516854\n",
      "INFO Perceptron: 0.8235294117647058\n",
      "INFO NB Multinomial: 0.4744525547445256\n",
      "INFO PA: 0.7522123893805309\n",
      "INFO batch 35 / 60 ================================\n",
      "INFO F-beta score (beta=0.5) on training set:\n",
      "INFO SGD-SVM: 0.8021390374331551\n",
      "INFO SGD-Log: 0.8064516129032256\n",
      "INFO Perceptron: 0.8285714285714286\n",
      "INFO NB Multinomial: 0.5893536121673005\n",
      "INFO PA: 0.8187134502923976\n",
      "INFO batch 36 / 60 ================================\n",
      "INFO F-beta score (beta=0.5) on training set:\n",
      "INFO SGD-SVM: 0.7000000000000001\n",
      "INFO SGD-Log: 0.6451612903225806\n",
      "INFO Perceptron: 0.47619047619047616\n",
      "INFO NB Multinomial: 0.48245614035087725\n",
      "INFO PA: 0.5384615384615385\n",
      "INFO batch 37 / 60 ================================\n",
      "INFO F-beta score (beta=0.5) on training set:\n",
      "INFO SGD-SVM: 0.7633587786259542\n",
      "INFO SGD-Log: 0.7442748091603053\n",
      "INFO Perceptron: 0.6020942408376962\n",
      "INFO NB Multinomial: 0.5872483221476511\n",
      "INFO PA: 0.6679389312977099\n",
      "INFO batch 38 / 60 ================================\n",
      "INFO F-beta score (beta=0.5) on training set:\n",
      "INFO SGD-SVM: 0.6866952789699571\n",
      "INFO SGD-Log: 0.6829268292682926\n",
      "INFO Perceptron: 0.6060606060606061\n",
      "INFO NB Multinomial: 0.6756756756756757\n",
      "INFO PA: 0.7088122605363985\n",
      "INFO batch 39 / 60 ================================\n",
      "INFO F-beta score (beta=0.5) on training set:\n",
      "INFO SGD-SVM: 0.6944444444444444\n",
      "INFO SGD-Log: 0.625\n",
      "INFO Perceptron: 0.75\n",
      "INFO NB Multinomial: 0.5681818181818182\n",
      "INFO PA: 0.875\n",
      "INFO batch 40 / 60 ================================\n",
      "INFO F-beta score (beta=0.5) on training set:\n",
      "INFO SGD-SVM: 0.8098591549295775\n",
      "INFO SGD-Log: 0.7971014492753622\n",
      "INFO Perceptron: 0.8561643835616438\n",
      "INFO NB Multinomial: 0.6666666666666666\n",
      "INFO PA: 0.8018867924528301\n",
      "INFO batch 41 / 60 ================================\n",
      "INFO F-beta score (beta=0.5) on training set:\n",
      "INFO SGD-SVM: 0.7211538461538461\n",
      "INFO SGD-Log: 0.6944444444444444\n",
      "INFO Perceptron: 0.5357142857142857\n",
      "INFO NB Multinomial: 0.5813953488372093\n",
      "INFO PA: 0.3409090909090909\n",
      "INFO batch 42 / 60 ================================\n",
      "INFO F-beta score (beta=0.5) on training set:\n",
      "INFO SGD-SVM: 0.8333333333333334\n",
      "INFO SGD-Log: 0.8333333333333334\n",
      "INFO Perceptron: 1.0\n",
      "INFO NB Multinomial: 0.8333333333333334\n",
      "INFO PA: 1.0\n",
      "INFO batch 43 / 60 ================================\n",
      "INFO F-beta score (beta=0.5) on training set:\n",
      "INFO SGD-SVM: 0.8\n",
      "INFO SGD-Log: 0.9523809523809523\n",
      "INFO Perceptron: 0.4716981132075472\n",
      "INFO NB Multinomial: 0.3773584905660377\n",
      "INFO PA: 0.7575757575757576\n",
      "INFO batch 44 / 60 ================================\n",
      "INFO F-beta score (beta=0.5) on training set:\n",
      "INFO SGD-SVM: 0.7575757575757576\n",
      "INFO SGD-Log: 0.6756756756756758\n",
      "INFO Perceptron: 0.7228915662650602\n",
      "INFO NB Multinomial: 0.6802721088435374\n",
      "INFO PA: 0.7142857142857143\n",
      "INFO batch 45 / 60 ================================\n",
      "INFO F-beta score (beta=0.5) on training set:\n",
      "INFO SGD-SVM: 0.5555555555555556\n",
      "INFO SGD-Log: 0.5508474576271186\n",
      "INFO Perceptron: 0.5913978494623656\n",
      "INFO NB Multinomial: 0.5\n",
      "INFO PA: 0.8962264150943396\n",
      "INFO batch 46 / 60 ================================\n",
      "INFO F-beta score (beta=0.5) on training set:\n",
      "INFO SGD-SVM: 0.6666666666666666\n",
      "INFO SGD-Log: 0.6097560975609756\n",
      "INFO Perceptron: 0.6153846153846153\n",
      "INFO NB Multinomial: 0.40816326530612246\n",
      "INFO PA: 0.6164383561643836\n",
      "INFO batch 47 / 60 ================================\n",
      "INFO F-beta score (beta=0.5) on training set:\n",
      "INFO SGD-SVM: 0.6976744186046512\n",
      "INFO SGD-Log: 0.7272727272727272\n",
      "INFO Perceptron: 0.7692307692307692\n",
      "INFO NB Multinomial: 0.5747126436781609\n",
      "INFO PA: 0.8823529411764706\n",
      "INFO batch 48 / 60 ================================\n",
      "INFO F-beta score (beta=0.5) on training set:\n",
      "INFO SGD-SVM: 0.5555555555555556\n",
      "INFO SGD-Log: 0.3846153846153846\n",
      "INFO Perceptron: 0.0\n",
      "INFO NB Multinomial: 0.0\n",
      "INFO PA: 1.0\n",
      "INFO batch 49 / 60 ================================\n",
      "INFO F-beta score (beta=0.5) on training set:\n",
      "INFO SGD-SVM: 0.588235294117647\n",
      "INFO SGD-Log: 0.588235294117647\n",
      "INFO Perceptron: 0.6521739130434783\n",
      "INFO NB Multinomial: 0.5263157894736842\n",
      "INFO PA: 0.7894736842105263\n",
      "INFO batch 50 / 60 ================================\n",
      "INFO F-beta score (beta=0.5) on training set:\n",
      "INFO SGD-SVM: 0.7142857142857143\n",
      "INFO SGD-Log: 0.7222222222222222\n",
      "INFO Perceptron: 0.7653061224489794\n",
      "INFO NB Multinomial: 0.7142857142857143\n",
      "INFO PA: 0.7894736842105263\n",
      "INFO batch 51 / 60 ================================\n",
      "INFO F-beta score (beta=0.5) on training set:\n",
      "INFO SGD-SVM: 0.0\n",
      "INFO SGD-Log: 0.0\n",
      "INFO Perceptron: 0.0\n",
      "INFO NB Multinomial: 0.0\n",
      "INFO PA: 1.0\n",
      "INFO batch 52 / 60 ================================\n",
      "INFO F-beta score (beta=0.5) on training set:\n",
      "INFO SGD-SVM: 0.6521739130434782\n",
      "INFO SGD-Log: 0.6896551724137931\n",
      "INFO Perceptron: 0.603448275862069\n",
      "INFO NB Multinomial: 0.5232558139534884\n",
      "INFO PA: 0.7051282051282052\n",
      "INFO batch 53 / 60 ================================\n",
      "INFO F-beta score (beta=0.5) on training set:\n",
      "INFO SGD-SVM: 0.7608695652173912\n",
      "INFO SGD-Log: 0.7608695652173912\n",
      "INFO Perceptron: 0.7352941176470589\n",
      "INFO NB Multinomial: 0.7608695652173912\n",
      "INFO PA: 0.8333333333333334\n",
      "INFO batch 54 / 60 ================================\n",
      "INFO F-beta score (beta=0.5) on training set:\n",
      "INFO SGD-SVM: 0.8108108108108107\n",
      "INFO SGD-Log: 0.7983193277310924\n",
      "INFO Perceptron: 0.7831325301204819\n",
      "INFO NB Multinomial: 0.7553956834532374\n",
      "INFO PA: 0.8695652173913042\n",
      "INFO batch 55 / 60 ================================\n",
      "INFO F-beta score (beta=0.5) on training set:\n",
      "INFO SGD-SVM: 0.6078431372549019\n",
      "INFO SGD-Log: 0.6502242152466368\n",
      "INFO Perceptron: 0.5528255528255528\n",
      "INFO NB Multinomial: 0.5466237942122186\n",
      "INFO PA: 0.688622754491018\n",
      "INFO batch 56 / 60 ================================\n",
      "INFO F-beta score (beta=0.5) on training set:\n",
      "INFO SGD-SVM: 0.7142857142857142\n",
      "INFO SGD-Log: 0.6410256410256411\n",
      "INFO Perceptron: 0.7653061224489796\n",
      "INFO NB Multinomial: 0.4545454545454546\n",
      "INFO PA: 0.6923076923076923\n",
      "INFO batch 57 / 60 ================================\n",
      "INFO F-beta score (beta=0.5) on training set:\n",
      "INFO SGD-SVM: 0.7366071428571429\n",
      "INFO SGD-Log: 0.731132075471698\n",
      "INFO Perceptron: 0.7307692307692307\n",
      "INFO NB Multinomial: 0.5427631578947368\n",
      "INFO PA: 0.6554878048780488\n",
      "INFO batch 58 / 60 ================================\n",
      "INFO F-beta score (beta=0.5) on training set:\n",
      "INFO SGD-SVM: 0.7142857142857142\n",
      "INFO SGD-Log: 0.7894736842105263\n",
      "INFO Perceptron: 0.8076923076923076\n",
      "INFO NB Multinomial: 0.5630630630630631\n",
      "INFO PA: 0.6201550387596899\n",
      "INFO batch 59 / 60 ================================\n",
      "INFO F-beta score (beta=0.5) on training set:\n",
      "INFO SGD-SVM: 0.8715596330275228\n",
      "INFO SGD-Log: 0.7964601769911503\n",
      "INFO Perceptron: 0.7246376811594203\n",
      "INFO NB Multinomial: 0.6069364161849711\n",
      "INFO PA: 0.8715596330275228\n",
      "INFO batch 60 / 60 ================================\n",
      "INFO F-beta score (beta=0.5) on training set:\n",
      "INFO SGD-SVM: 0.5\n",
      "INFO SGD-Log: 0.78125\n",
      "INFO Perceptron: 0.78125\n",
      "INFO NB Multinomial: 0.4861111111111111\n",
      "INFO PA: 0.75\n"
     ]
    }
   ],
   "source": [
    "results = train_predict(partial_fit_classifiers, train_batch_names, val_features, val_labels) "
   ]
  },
  {
   "cell_type": "markdown",
   "metadata": {
    "collapsed": true
   },
   "source": [
    "# Plot results\n",
    "\n",
    "### 1. Run time"
   ]
  },
  {
   "cell_type": "code",
   "execution_count": 10,
   "metadata": {
    "scrolled": true
   },
   "outputs": [
    {
     "data": {
      "image/png": "[encoded data removed]",
      "text/plain": [
       "<matplotlib.figure.Figure at 0x120b7e160>"
      ]
     },
     "metadata": {},
     "output_type": "display_data"
    }
   ],
   "source": [
    "time_res = ts.get_time_res(results)\n",
    "ts.plot_time(time_res)"
   ]
  },
  {
   "cell_type": "markdown",
   "metadata": {},
   "source": [
    " \n",
    "\n",
    "## 2. Accuracy and F-beta score"
   ]
  },
  {
   "cell_type": "code",
   "execution_count": 11,
   "metadata": {
    "collapsed": true,
    "scrolled": true
   },
   "outputs": [],
   "source": [
    "def plot_score(results, window=20):\n",
    "    my_col = sns.color_palette(\"husl\", 5)\n",
    "    plt.figure(figsize=(12, 6))\n",
    "    ax1 = plt.subplot(121)\n",
    "\n",
    "    for i, clf_name in enumerate(partial_fit_classifiers.keys()):\n",
    "        plt.plot(pd.Series(results[ clf_name ][ 'acc_train' ]).rolling(window=window).mean(),\n",
    "                 color=my_col[ i ], linewidth=2)\n",
    "    plt.ylabel(\"Accuracy\")\n",
    "    plt.xlabel(\"Training steps\")\n",
    "    plt.legend(loc=\"best\", labels=partial_fit_classifiers.keys())\n",
    "    plt.title(\"Accuracy on training set\")\n",
    "\n",
    "    ax2 = plt.subplot(122, sharey=ax1)\n",
    "    for i, clf_name in enumerate(partial_fit_classifiers.keys()):\n",
    "        plt.plot(pd.Series(results[ clf_name ][ 'f_train' ]).rolling(window=window).mean(),\n",
    "                 color=my_col[ i ], linewidth=2)\n",
    "    plt.ylabel(\"F-score\")\n",
    "    plt.xlabel(\"Training steps\")\n",
    "    # plt.legend(loc=\"best\", labels=partial_fit_classifiers.keys())\n",
    "    plt.title(\"F score (beta=0.5) on training set\")\n",
    "    plt.savefig(\"assets/compare_score.png\")\n",
    "    plt.show()\n",
    "    \n",
    "#plot_score(results, window=150)"
   ]
  },
  {
   "cell_type": "code",
   "execution_count": 12,
   "metadata": {
    "scrolled": false
   },
   "outputs": [
    {
     "data": {
      "image/png": "[encoded data removed]",
      "text/plain": [
       "<matplotlib.figure.Figure at 0x12061f2e8>"
      ]
     },
     "metadata": {},
     "output_type": "display_data"
    }
   ],
   "source": [
    "plot_score(results, window=150)"
   ]
  },
  {
   "cell_type": "code",
   "execution_count": 13,
   "metadata": {},
   "outputs": [
    {
     "data": {
      "text/html": [
       "<div>\n",
       "<table border=\"1\" class=\"dataframe\">\n",
       "  <thead>\n",
       "    <tr style=\"text-align: right;\">\n",
       "      <th></th>\n",
       "      <th>acc_test_mean</th>\n",
       "      <th>f_test_mean</th>\n",
       "    </tr>\n",
       "  </thead>\n",
       "  <tbody>\n",
       "    <tr>\n",
       "      <th>SGD-Log</th>\n",
       "      <td>0.869271</td>\n",
       "      <td>0.642768</td>\n",
       "    </tr>\n",
       "    <tr>\n",
       "      <th>SGD-SVM</th>\n",
       "      <td>0.858398</td>\n",
       "      <td>0.612183</td>\n",
       "    </tr>\n",
       "    <tr>\n",
       "      <th>NB Multinomial</th>\n",
       "      <td>0.839518</td>\n",
       "      <td>0.560809</td>\n",
       "    </tr>\n",
       "    <tr>\n",
       "      <th>Perceptron</th>\n",
       "      <td>0.831120</td>\n",
       "      <td>0.536410</td>\n",
       "    </tr>\n",
       "    <tr>\n",
       "      <th>Passive-Aggressive</th>\n",
       "      <td>0.831706</td>\n",
       "      <td>0.535115</td>\n",
       "    </tr>\n",
       "  </tbody>\n",
       "</table>\n",
       "</div>"
      ],
      "text/plain": [
       "                    acc_test_mean  f_test_mean\n",
       "SGD-Log                  0.869271     0.642768\n",
       "SGD-SVM                  0.858398     0.612183\n",
       "NB Multinomial           0.839518     0.560809\n",
       "Perceptron               0.831120     0.536410\n",
       "Passive-Aggressive       0.831706     0.535115"
      ]
     },
     "execution_count": 13,
     "metadata": {},
     "output_type": "execute_result"
    }
   ],
   "source": [
    "mean_scores, acc_test, f_test = ts.get_test_score(results)\n",
    "mean_scores"
   ]
  },
  {
   "cell_type": "code",
   "execution_count": 14,
   "metadata": {
    "collapsed": true
   },
   "outputs": [],
   "source": [
    "# INFO Avg test scores:                     acc_test_mean  f_test_mean\n",
    "# SGD-Log                  0.869271     0.642768\n",
    "# SGD-SVM                  0.858398     0.612183\n",
    "# NB Multinomial           0.839518     0.560809\n",
    "# Perceptron               0.831120     0.536410\n",
    "# Passive-Aggressive       0.831706     0.535115"
   ]
  },
  {
   "cell_type": "code",
   "execution_count": 15,
   "metadata": {},
   "outputs": [
    {
     "data": {
      "text/plain": [
       "<matplotlib.axes._subplots.AxesSubplot at 0x122e9cb00>"
      ]
     },
     "execution_count": 15,
     "metadata": {},
     "output_type": "execute_result"
    },
    {
     "data": {
      "image/png": "[encoded data removed]",
      "text/plain": [
       "<matplotlib.figure.Figure at 0x120616a20>"
      ]
     },
     "metadata": {},
     "output_type": "display_data"
    }
   ],
   "source": [
    "pd.rolling_mean(f_test, 10).plot()"
   ]
  },
  {
   "cell_type": "code",
   "execution_count": 16,
   "metadata": {
    "scrolled": true
   },
   "outputs": [
    {
     "data": {
      "text/plain": [
       "<matplotlib.axes._subplots.AxesSubplot at 0x11e391f98>"
      ]
     },
     "execution_count": 16,
     "metadata": {},
     "output_type": "execute_result"
    },
    {
     "data": {
      "image/png": "[encoded data removed]",
      "text/plain": [
       "<matplotlib.figure.Figure at 0x120616ac8>"
      ]
     },
     "metadata": {},
     "output_type": "display_data"
    }
   ],
   "source": [
    "pd.rolling_mean(acc_test, 10).plot()"
   ]
  },
  {
   "cell_type": "code",
   "execution_count": null,
   "metadata": {
    "collapsed": true
   },
   "outputs": [],
   "source": []
  },
  {
   "cell_type": "markdown",
   "metadata": {},
   "source": [
    "# Hyperparameter tuning via grid search\n",
    "\n",
    "As GridSearchCV in scikit-learn doesn't support algorithms with partial fit, let's manually search the hyperparameter space. "
   ]
  },
  {
   "cell_type": "code",
   "execution_count": 17,
   "metadata": {
    "collapsed": true
   },
   "outputs": [],
   "source": [
    "loss = ['log', 'hinge']\n",
    "alpha = [.000001, .00001, .0001, .001]\n",
    "l1_ratio = [0., .1, .2, .3, .4, .5, .6, .7, .8, .9]"
   ]
  },
  {
   "cell_type": "code",
   "execution_count": 19,
   "metadata": {
    "scrolled": true
   },
   "outputs": [
    {
     "name": "stdout",
     "output_type": "stream",
     "text": [
      "\n",
      "INFO 1/80 Evaluating hyperparameters: \n",
      "INFO loss: log, alpha: 1e-06, l1_ratio: 0.0\n",
      "INFO Validation F-score: 0.5154639175257731\n",
      "\n",
      "INFO 2/80 Evaluating hyperparameters: \n",
      "INFO loss: log, alpha: 1e-06, l1_ratio: 0.1\n",
      "INFO Validation F-score: 0.6050955414012742\n",
      "\n",
      "INFO 3/80 Evaluating hyperparameters: \n",
      "INFO loss: log, alpha: 1e-06, l1_ratio: 0.2\n",
      "INFO Validation F-score: 0.5263157894736842\n",
      "\n",
      "INFO 4/80 Evaluating hyperparameters: \n",
      "INFO loss: log, alpha: 1e-06, l1_ratio: 0.3\n",
      "INFO Validation F-score: 0.6201550387596899\n",
      "\n",
      "INFO 5/80 Evaluating hyperparameters: \n",
      "INFO loss: log, alpha: 1e-06, l1_ratio: 0.4\n",
      "INFO Validation F-score: 0.6687898089171973\n",
      "\n",
      "INFO 6/80 Evaluating hyperparameters: \n",
      "INFO loss: log, alpha: 1e-06, l1_ratio: 0.5\n",
      "INFO Validation F-score: 0.4887218045112781\n",
      "\n",
      "INFO 7/80 Evaluating hyperparameters: \n",
      "INFO loss: log, alpha: 1e-06, l1_ratio: 0.6\n",
      "INFO Validation F-score: 0.4705882352941176\n",
      "\n",
      "INFO 8/80 Evaluating hyperparameters: \n",
      "INFO loss: log, alpha: 1e-06, l1_ratio: 0.7\n",
      "INFO Validation F-score: 0.49382716049382736\n",
      "\n",
      "INFO 9/80 Evaluating hyperparameters: \n",
      "INFO loss: log, alpha: 1e-06, l1_ratio: 0.8\n",
      "INFO Validation F-score: 0.6204379562043795\n",
      "\n",
      "INFO 10/80 Evaluating hyperparameters: \n",
      "INFO loss: log, alpha: 1e-06, l1_ratio: 0.9\n",
      "INFO Validation F-score: 0.6201550387596899\n",
      "\n",
      "INFO 11/80 Evaluating hyperparameters: \n",
      "INFO loss: log, alpha: 1e-05, l1_ratio: 0.0\n",
      "INFO Validation F-score: 0.5963302752293576\n",
      "\n",
      "INFO 12/80 Evaluating hyperparameters: \n",
      "INFO loss: log, alpha: 1e-05, l1_ratio: 0.1\n",
      "INFO Validation F-score: 0.5963302752293576\n",
      "\n",
      "INFO 13/80 Evaluating hyperparameters: \n",
      "INFO loss: log, alpha: 1e-05, l1_ratio: 0.2\n",
      "INFO Validation F-score: 0.5963302752293576\n",
      "\n",
      "INFO 14/80 Evaluating hyperparameters: \n",
      "INFO loss: log, alpha: 1e-05, l1_ratio: 0.3\n",
      "INFO Validation F-score: 0.5752212389380533\n",
      "\n",
      "INFO 15/80 Evaluating hyperparameters: \n",
      "INFO loss: log, alpha: 1e-05, l1_ratio: 0.4\n",
      "INFO Validation F-score: 0.5963302752293576\n",
      "\n",
      "INFO 16/80 Evaluating hyperparameters: \n",
      "INFO loss: log, alpha: 1e-05, l1_ratio: 0.5\n",
      "INFO Validation F-score: 0.5963302752293576\n",
      "\n",
      "INFO 17/80 Evaluating hyperparameters: \n",
      "INFO loss: log, alpha: 1e-05, l1_ratio: 0.6\n",
      "INFO Validation F-score: 0.6194690265486724\n",
      "\n",
      "INFO 18/80 Evaluating hyperparameters: \n",
      "INFO loss: log, alpha: 1e-05, l1_ratio: 0.7\n",
      "INFO Validation F-score: 0.6194690265486724\n",
      "\n",
      "INFO 19/80 Evaluating hyperparameters: \n",
      "INFO loss: log, alpha: 1e-05, l1_ratio: 0.8\n",
      "INFO Validation F-score: 0.6422018348623854\n",
      "\n",
      "INFO 20/80 Evaluating hyperparameters: \n",
      "INFO loss: log, alpha: 1e-05, l1_ratio: 0.9\n",
      "INFO Validation F-score: 0.6194690265486724\n",
      "\n",
      "INFO 21/80 Evaluating hyperparameters: \n",
      "INFO loss: log, alpha: 0.0001, l1_ratio: 0.0\n",
      "INFO Validation F-score: 0.6976744186046513\n",
      "\n",
      "INFO 22/80 Evaluating hyperparameters: \n",
      "INFO loss: log, alpha: 0.0001, l1_ratio: 0.1\n",
      "INFO Validation F-score: 0.6976744186046513\n",
      "\n",
      "INFO 23/80 Evaluating hyperparameters: \n",
      "INFO loss: log, alpha: 0.0001, l1_ratio: 0.2\n",
      "INFO Validation F-score: 0.6976744186046513\n",
      "\n",
      "INFO 24/80 Evaluating hyperparameters: \n",
      "INFO loss: log, alpha: 0.0001, l1_ratio: 0.3\n",
      "INFO Validation F-score: 0.6766917293233082\n",
      "\n",
      "INFO 25/80 Evaluating hyperparameters: \n",
      "INFO loss: log, alpha: 0.0001, l1_ratio: 0.4\n",
      "INFO Validation F-score: 0.6934306569343066\n",
      "\n",
      "INFO 26/80 Evaluating hyperparameters: \n",
      "INFO loss: log, alpha: 0.0001, l1_ratio: 0.5\n",
      "INFO Validation F-score: 0.6934306569343066\n",
      "\n",
      "INFO 27/80 Evaluating hyperparameters: \n",
      "INFO loss: log, alpha: 0.0001, l1_ratio: 0.6\n",
      "INFO Validation F-score: 0.6934306569343066\n",
      "\n",
      "INFO 28/80 Evaluating hyperparameters: \n",
      "INFO loss: log, alpha: 0.0001, l1_ratio: 0.7\n",
      "INFO Validation F-score: 0.6934306569343066\n",
      "\n",
      "INFO 29/80 Evaluating hyperparameters: \n",
      "INFO loss: log, alpha: 0.0001, l1_ratio: 0.8\n",
      "INFO Validation F-score: 0.714285714285714\n",
      "\n",
      "INFO 30/80 Evaluating hyperparameters: \n",
      "INFO loss: log, alpha: 0.0001, l1_ratio: 0.9\n",
      "INFO Validation F-score: 0.714285714285714\n",
      "\n",
      "INFO 31/80 Evaluating hyperparameters: \n",
      "INFO loss: log, alpha: 0.001, l1_ratio: 0.0\n",
      "INFO Validation F-score: 0.6779661016949156\n",
      "\n",
      "INFO 32/80 Evaluating hyperparameters: \n",
      "INFO loss: log, alpha: 0.001, l1_ratio: 0.1\n",
      "INFO Validation F-score: 0.6497175141242938\n",
      "\n",
      "INFO 33/80 Evaluating hyperparameters: \n",
      "INFO loss: log, alpha: 0.001, l1_ratio: 0.2\n",
      "INFO Validation F-score: 0.6497175141242938\n",
      "\n",
      "INFO 34/80 Evaluating hyperparameters: \n",
      "INFO loss: log, alpha: 0.001, l1_ratio: 0.3\n",
      "INFO Validation F-score: 0.6647398843930634\n",
      "\n",
      "INFO 35/80 Evaluating hyperparameters: \n",
      "INFO loss: log, alpha: 0.001, l1_ratio: 0.4\n",
      "INFO Validation F-score: 0.680473372781065\n",
      "\n",
      "INFO 36/80 Evaluating hyperparameters: \n",
      "INFO loss: log, alpha: 0.001, l1_ratio: 0.5\n",
      "INFO Validation F-score: 0.6969696969696973\n",
      "\n",
      "INFO 37/80 Evaluating hyperparameters: \n",
      "INFO loss: log, alpha: 0.001, l1_ratio: 0.6\n",
      "INFO Validation F-score: 0.6969696969696973\n",
      "\n",
      "INFO 38/80 Evaluating hyperparameters: \n",
      "INFO loss: log, alpha: 0.001, l1_ratio: 0.7\n",
      "INFO Validation F-score: 0.6969696969696973\n",
      "\n",
      "INFO 39/80 Evaluating hyperparameters: \n",
      "INFO loss: log, alpha: 0.001, l1_ratio: 0.8\n",
      "INFO Validation F-score: 0.6969696969696973\n",
      "\n",
      "INFO 40/80 Evaluating hyperparameters: \n",
      "INFO loss: log, alpha: 0.001, l1_ratio: 0.9\n",
      "INFO Validation F-score: 0.6832298136645961\n",
      "\n",
      "INFO 41/80 Evaluating hyperparameters: \n",
      "INFO loss: hinge, alpha: 1e-06, l1_ratio: 0.0\n",
      "INFO Validation F-score: 0.5445544554455443\n",
      "\n",
      "INFO 42/80 Evaluating hyperparameters: \n",
      "INFO loss: hinge, alpha: 1e-06, l1_ratio: 0.1\n",
      "INFO Validation F-score: 0.5414012738853503\n",
      "\n",
      "INFO 43/80 Evaluating hyperparameters: \n",
      "INFO loss: hinge, alpha: 1e-06, l1_ratio: 0.2\n",
      "INFO Validation F-score: 0.6737588652482271\n",
      "\n",
      "INFO 44/80 Evaluating hyperparameters: \n",
      "INFO loss: hinge, alpha: 1e-06, l1_ratio: 0.3\n",
      "INFO Validation F-score: 0.5917159763313609\n",
      "\n",
      "INFO 45/80 Evaluating hyperparameters: \n",
      "INFO loss: hinge, alpha: 1e-06, l1_ratio: 0.4\n",
      "INFO Validation F-score: 0.4109589041095891\n",
      "\n",
      "INFO 46/80 Evaluating hyperparameters: \n",
      "INFO loss: hinge, alpha: 1e-06, l1_ratio: 0.5\n",
      "INFO Validation F-score: 0.5294117647058824\n",
      "\n",
      "INFO 47/80 Evaluating hyperparameters: \n",
      "INFO loss: hinge, alpha: 1e-06, l1_ratio: 0.6\n",
      "INFO Validation F-score: 0.6185567010309276\n",
      "\n",
      "INFO 48/80 Evaluating hyperparameters: \n",
      "INFO loss: hinge, alpha: 1e-06, l1_ratio: 0.7\n",
      "INFO Validation F-score: 0.575757575757576\n",
      "\n",
      "INFO 49/80 Evaluating hyperparameters: \n",
      "INFO loss: hinge, alpha: 1e-06, l1_ratio: 0.8\n",
      "INFO Validation F-score: 0.5445544554455443\n",
      "\n",
      "INFO 50/80 Evaluating hyperparameters: \n",
      "INFO loss: hinge, alpha: 1e-06, l1_ratio: 0.9\n",
      "INFO Validation F-score: 0.5714285714285712\n",
      "\n",
      "INFO 51/80 Evaluating hyperparameters: \n",
      "INFO loss: hinge, alpha: 1e-05, l1_ratio: 0.0\n",
      "INFO Validation F-score: 0.6204379562043795\n",
      "\n",
      "INFO 52/80 Evaluating hyperparameters: \n",
      "INFO loss: hinge, alpha: 1e-05, l1_ratio: 0.1\n",
      "INFO Validation F-score: 0.5940594059405938\n",
      "\n",
      "INFO 53/80 Evaluating hyperparameters: \n",
      "INFO loss: hinge, alpha: 1e-05, l1_ratio: 0.2\n",
      "INFO Validation F-score: 0.5504587155963303\n",
      "\n",
      "INFO 54/80 Evaluating hyperparameters: \n",
      "INFO loss: hinge, alpha: 1e-05, l1_ratio: 0.3\n",
      "INFO Validation F-score: 0.5639097744360901\n",
      "\n",
      "INFO 55/80 Evaluating hyperparameters: \n",
      "INFO loss: hinge, alpha: 1e-05, l1_ratio: 0.4\n",
      "INFO Validation F-score: 0.645161290322581\n",
      "\n",
      "INFO 56/80 Evaluating hyperparameters: \n",
      "INFO loss: hinge, alpha: 1e-05, l1_ratio: 0.5\n",
      "INFO Validation F-score: 0.4794520547945206\n",
      "\n",
      "INFO 57/80 Evaluating hyperparameters: \n",
      "INFO loss: hinge, alpha: 1e-05, l1_ratio: 0.6\n",
      "INFO Validation F-score: 0.5555555555555555\n",
      "\n",
      "INFO 58/80 Evaluating hyperparameters: \n",
      "INFO loss: hinge, alpha: 1e-05, l1_ratio: 0.7\n",
      "INFO Validation F-score: 0.5982905982905982\n",
      "\n",
      "INFO 59/80 Evaluating hyperparameters: \n",
      "INFO loss: hinge, alpha: 1e-05, l1_ratio: 0.8\n",
      "INFO Validation F-score: 0.5813953488372094\n",
      "\n",
      "INFO 60/80 Evaluating hyperparameters: \n",
      "INFO loss: hinge, alpha: 1e-05, l1_ratio: 0.9\n",
      "INFO Validation F-score: 0.583941605839416\n",
      "\n",
      "INFO 61/80 Evaluating hyperparameters: \n",
      "INFO loss: hinge, alpha: 0.0001, l1_ratio: 0.0\n",
      "INFO Validation F-score: 0.6589147286821709\n",
      "\n",
      "INFO 62/80 Evaluating hyperparameters: \n",
      "INFO loss: hinge, alpha: 0.0001, l1_ratio: 0.1\n",
      "INFO Validation F-score: 0.6611570247933881\n",
      "\n",
      "INFO 63/80 Evaluating hyperparameters: \n",
      "INFO loss: hinge, alpha: 0.0001, l1_ratio: 0.2\n",
      "INFO Validation F-score: 0.6611570247933881\n",
      "\n",
      "INFO 64/80 Evaluating hyperparameters: \n"
     ]
    },
    {
     "name": "stdout",
     "output_type": "stream",
     "text": [
      "INFO loss: hinge, alpha: 0.0001, l1_ratio: 0.3\n",
      "INFO Validation F-score: 0.6194690265486724\n",
      "\n",
      "INFO 65/80 Evaluating hyperparameters: \n",
      "INFO loss: hinge, alpha: 0.0001, l1_ratio: 0.4\n",
      "INFO Validation F-score: 0.6201550387596899\n",
      "\n",
      "INFO 66/80 Evaluating hyperparameters: \n",
      "INFO loss: hinge, alpha: 0.0001, l1_ratio: 0.5\n",
      "INFO Validation F-score: 0.6637168141592918\n",
      "\n",
      "INFO 67/80 Evaluating hyperparameters: \n",
      "INFO loss: hinge, alpha: 0.0001, l1_ratio: 0.6\n",
      "INFO Validation F-score: 0.6410256410256412\n",
      "\n",
      "INFO 68/80 Evaluating hyperparameters: \n",
      "INFO loss: hinge, alpha: 0.0001, l1_ratio: 0.7\n",
      "INFO Validation F-score: 0.6666666666666669\n",
      "\n",
      "INFO 69/80 Evaluating hyperparameters: \n",
      "INFO loss: hinge, alpha: 0.0001, l1_ratio: 0.8\n",
      "INFO Validation F-score: 0.7079646017699117\n",
      "\n",
      "INFO 70/80 Evaluating hyperparameters: \n",
      "INFO loss: hinge, alpha: 0.0001, l1_ratio: 0.9\n",
      "INFO Validation F-score: 0.6410256410256412\n",
      "\n",
      "INFO 71/80 Evaluating hyperparameters: \n",
      "INFO loss: hinge, alpha: 0.001, l1_ratio: 0.0\n",
      "INFO Validation F-score: 0.6687898089171973\n",
      "\n",
      "INFO 72/80 Evaluating hyperparameters: \n",
      "INFO loss: hinge, alpha: 0.001, l1_ratio: 0.1\n",
      "INFO Validation F-score: 0.6687898089171973\n",
      "\n",
      "INFO 73/80 Evaluating hyperparameters: \n",
      "INFO loss: hinge, alpha: 0.001, l1_ratio: 0.2\n",
      "INFO Validation F-score: 0.6862745098039217\n",
      "\n",
      "INFO 74/80 Evaluating hyperparameters: \n",
      "INFO loss: hinge, alpha: 0.001, l1_ratio: 0.3\n",
      "INFO Validation F-score: 0.6687898089171973\n",
      "\n",
      "INFO 75/80 Evaluating hyperparameters: \n",
      "INFO loss: hinge, alpha: 0.001, l1_ratio: 0.4\n",
      "INFO Validation F-score: 0.6382978723404253\n",
      "\n",
      "INFO 76/80 Evaluating hyperparameters: \n",
      "INFO loss: hinge, alpha: 0.001, l1_ratio: 0.5\n",
      "INFO Validation F-score: 0.6737588652482271\n",
      "\n",
      "INFO 77/80 Evaluating hyperparameters: \n",
      "INFO loss: hinge, alpha: 0.001, l1_ratio: 0.6\n",
      "INFO Validation F-score: 0.6737588652482271\n",
      "\n",
      "INFO 78/80 Evaluating hyperparameters: \n",
      "INFO loss: hinge, alpha: 0.001, l1_ratio: 0.7\n",
      "INFO Validation F-score: 0.6737588652482271\n",
      "\n",
      "INFO 79/80 Evaluating hyperparameters: \n",
      "INFO loss: hinge, alpha: 0.001, l1_ratio: 0.8\n",
      "INFO Validation F-score: 0.6737588652482271\n",
      "\n",
      "INFO 80/80 Evaluating hyperparameters: \n",
      "INFO loss: hinge, alpha: 0.001, l1_ratio: 0.9\n",
      "INFO Validation F-score: 0.6569343065693429\n",
      "INFO Total time elapsed: 646.5173180103302 seconds\n",
      "INFO grid seach result is saved as: results/grid_search_res.pickle\n"
     ]
    }
   ],
   "source": [
    "search_res = ts.sgd_grid_search(train_batch_names, val_features, val_labels, loss, alpha, l1_ratio, random_state)"
   ]
  },
  {
   "cell_type": "code",
   "execution_count": 20,
   "metadata": {
    "scrolled": true
   },
   "outputs": [
    {
     "data": {
      "text/html": [
       "<div>\n",
       "<table border=\"1\" class=\"dataframe\">\n",
       "  <thead>\n",
       "    <tr style=\"text-align: right;\">\n",
       "      <th></th>\n",
       "      <th>alpha</th>\n",
       "      <th>l1_ratio</th>\n",
       "      <th>loss</th>\n",
       "      <th>val_f_score</th>\n",
       "    </tr>\n",
       "  </thead>\n",
       "  <tbody>\n",
       "    <tr>\n",
       "      <th>29</th>\n",
       "      <td>0.0001</td>\n",
       "      <td>0.9</td>\n",
       "      <td>log</td>\n",
       "      <td>0.714286</td>\n",
       "    </tr>\n",
       "    <tr>\n",
       "      <th>28</th>\n",
       "      <td>0.0001</td>\n",
       "      <td>0.8</td>\n",
       "      <td>log</td>\n",
       "      <td>0.714286</td>\n",
       "    </tr>\n",
       "    <tr>\n",
       "      <th>68</th>\n",
       "      <td>0.0001</td>\n",
       "      <td>0.8</td>\n",
       "      <td>hinge</td>\n",
       "      <td>0.707965</td>\n",
       "    </tr>\n",
       "    <tr>\n",
       "      <th>20</th>\n",
       "      <td>0.0001</td>\n",
       "      <td>0.0</td>\n",
       "      <td>log</td>\n",
       "      <td>0.697674</td>\n",
       "    </tr>\n",
       "    <tr>\n",
       "      <th>22</th>\n",
       "      <td>0.0001</td>\n",
       "      <td>0.2</td>\n",
       "      <td>log</td>\n",
       "      <td>0.697674</td>\n",
       "    </tr>\n",
       "    <tr>\n",
       "      <th>21</th>\n",
       "      <td>0.0001</td>\n",
       "      <td>0.1</td>\n",
       "      <td>log</td>\n",
       "      <td>0.697674</td>\n",
       "    </tr>\n",
       "    <tr>\n",
       "      <th>38</th>\n",
       "      <td>0.0010</td>\n",
       "      <td>0.8</td>\n",
       "      <td>log</td>\n",
       "      <td>0.696970</td>\n",
       "    </tr>\n",
       "    <tr>\n",
       "      <th>37</th>\n",
       "      <td>0.0010</td>\n",
       "      <td>0.7</td>\n",
       "      <td>log</td>\n",
       "      <td>0.696970</td>\n",
       "    </tr>\n",
       "    <tr>\n",
       "      <th>36</th>\n",
       "      <td>0.0010</td>\n",
       "      <td>0.6</td>\n",
       "      <td>log</td>\n",
       "      <td>0.696970</td>\n",
       "    </tr>\n",
       "    <tr>\n",
       "      <th>35</th>\n",
       "      <td>0.0010</td>\n",
       "      <td>0.5</td>\n",
       "      <td>log</td>\n",
       "      <td>0.696970</td>\n",
       "    </tr>\n",
       "  </tbody>\n",
       "</table>\n",
       "</div>"
      ],
      "text/plain": [
       "     alpha  l1_ratio   loss  val_f_score\n",
       "29  0.0001       0.9    log     0.714286\n",
       "28  0.0001       0.8    log     0.714286\n",
       "68  0.0001       0.8  hinge     0.707965\n",
       "20  0.0001       0.0    log     0.697674\n",
       "22  0.0001       0.2    log     0.697674\n",
       "21  0.0001       0.1    log     0.697674\n",
       "38  0.0010       0.8    log     0.696970\n",
       "37  0.0010       0.7    log     0.696970\n",
       "36  0.0010       0.6    log     0.696970\n",
       "35  0.0010       0.5    log     0.696970"
      ]
     },
     "execution_count": 20,
     "metadata": {},
     "output_type": "execute_result"
    }
   ],
   "source": [
    "search_res = search_res.sort_values(by='val_f_score', ascending=False)\n",
    "search_res.iloc[:10, :]"
   ]
  },
  {
   "cell_type": "code",
   "execution_count": 21,
   "metadata": {
    "scrolled": false
   },
   "outputs": [
    {
     "data": {
      "text/plain": [
       "alpha            0.0001\n",
       "l1_ratio            0.9\n",
       "loss                log\n",
       "val_f_score    0.714286\n",
       "Name: 29, dtype: object"
      ]
     },
     "execution_count": 21,
     "metadata": {},
     "output_type": "execute_result"
    }
   ],
   "source": [
    "best_param = search_res.iloc[0]\n",
    "best_param"
   ]
  },
  {
   "cell_type": "code",
   "execution_count": 22,
   "metadata": {},
   "outputs": [
    {
     "name": "stdout",
     "output_type": "stream",
     "text": [
      "number of train batches: 70\n",
      "number of test batches: 12\n"
     ]
    }
   ],
   "source": [
    "train_batch_names, test_batch_names = ts.get_batchnames(split_val=False)"
   ]
  },
  {
   "cell_type": "code",
   "execution_count": 23,
   "metadata": {},
   "outputs": [
    {
     "name": "stdout",
     "output_type": "stream",
     "text": [
      "INFO Concatenating 12 batches\n"
     ]
    },
    {
     "name": "stderr",
     "output_type": "stream",
     "text": [
      "0% [############] 100% | ETA: 00:00:00\n",
      "Total time elapsed: 00:00:05\n"
     ]
    }
   ],
   "source": [
    "test_features, test_labels = ts.concat_batches(test_batch_names)"
   ]
  },
  {
   "cell_type": "code",
   "execution_count": 24,
   "metadata": {},
   "outputs": [
    {
     "name": "stderr",
     "output_type": "stream",
     "text": [
      "0% [##############################] 100% | ETA: 00:00:00\n",
      "Total time elapsed: 00:00:11\n"
     ]
    }
   ],
   "source": [
    "best_clf = SGDClassifier(loss=best_param['loss'], \n",
    "                         alpha=best_param['alpha'], \n",
    "                         l1_ratio=best_param['l1_ratio'], \n",
    "                         random_state=random_state,\n",
    "                         average=True)\n",
    "classes = np.array([0, 1])\n",
    "\n",
    "pbar = pyprind.ProgBar(len(train_batch_names))\n",
    "for batch_i in range(len(train_batch_names)):\n",
    "    for X_train, y_train in ts.load_train_batches(train_batch_names, batch_i, batch_size):\n",
    "        best_clf.partial_fit(X_train, y_train, classes=classes) \n",
    "    pbar.update()"
   ]
  },
  {
   "cell_type": "markdown",
   "metadata": {},
   "source": [
    "Let's save the fine-tuned model"
   ]
  },
  {
   "cell_type": "code",
   "execution_count": 25,
   "metadata": {
    "collapsed": true
   },
   "outputs": [],
   "source": [
    "with open('results/best_model.pickle', 'wb') as f:\n",
    "    pickle.dump(best_clf, f)"
   ]
  },
  {
   "cell_type": "code",
   "execution_count": 26,
   "metadata": {
    "collapsed": true
   },
   "outputs": [],
   "source": [
    "with open('results/best_model.pickle', 'rb') as f:\n",
    "    best_clf = pickle.load(f)\n",
    "    f.close()"
   ]
  },
  {
   "cell_type": "code",
   "execution_count": 27,
   "metadata": {
    "scrolled": true
   },
   "outputs": [
    {
     "data": {
      "text/plain": [
       "(0.66610674869928355, 0.87516318337229071)"
      ]
     },
     "execution_count": 27,
     "metadata": {},
     "output_type": "execute_result"
    }
   ],
   "source": [
    "def eval_test_error(clf, test_batch_names):\n",
    "    test_fscore = [ ]\n",
    "    test_accuracy = [ ]\n",
    "    test_confusion = []\n",
    "    for i, batch_i in enumerate(test_batch_names):\n",
    "        for batch_features, batch_labels in ts.load_train_batches(test_batch_names, i, batch_size):\n",
    "            pred_val = clf.predict(batch_features)\n",
    "            test_fscore.append(fbeta_score(batch_labels, pred_val, beta=.5))\n",
    "            test_accuracy.append(accuracy_score(batch_labels, pred_val))\n",
    "            test_confusion.append(confusion_matrix(batch_labels, pred_val))\n",
    "\n",
    "    return np.mean(test_fscore), np.mean(test_accuracy), np.sum(test_confusion, axis=0)\n",
    "\n",
    "final_f_score, final_accuracy, confusion = eval_test_error(best_clf, test_batch_names)\n",
    "final_f_score, final_accuracy"
   ]
  },
  {
   "cell_type": "code",
   "execution_count": 28,
   "metadata": {},
   "outputs": [
    {
     "data": {
      "text/plain": [
       "array([[57619,  3602],\n",
       "       [ 5722,  8127]])"
      ]
     },
     "execution_count": 28,
     "metadata": {},
     "output_type": "execute_result"
    }
   ],
   "source": [
    "confusion"
   ]
  },
  {
   "cell_type": "markdown",
   "metadata": {},
   "source": [
    "# Inference"
   ]
  },
  {
   "cell_type": "code",
   "execution_count": 30,
   "metadata": {
    "collapsed": true
   },
   "outputs": [],
   "source": [
    "import pandas as pd \n",
    "import numpy as np\n",
    "import pickle\n",
    "\n",
    "with open('results/best_model.pickle', 'rb') as f:\n",
    "    best_clf = pickle.load(f)"
   ]
  },
  {
   "cell_type": "code",
   "execution_count": 31,
   "metadata": {},
   "outputs": [],
   "source": [
    "n_features = 535\n",
    "probs = []\n",
    "for i in range(n_features):\n",
    "    tmp = np.zeros((1, n_features))\n",
    "    tmp[0, i] = 1\n",
    "    probs.append(best_clf.predict_proba(tmp)[0][1])"
   ]
  },
  {
   "cell_type": "code",
   "execution_count": 32,
   "metadata": {},
   "outputs": [],
   "source": [
    "prob_table = pd.DataFrame(probs, columns = ['prob'])\n",
    "prob_table['feat'] = val_features.columns\n",
    "prob_table = prob_table.sort_values(by='prob', ascending=False)\n",
    "prob_table = prob_table.set_index('feat')"
   ]
  },
  {
   "cell_type": "code",
   "execution_count": 33,
   "metadata": {
    "scrolled": true
   },
   "outputs": [
    {
     "data": {
      "text/html": [
       "<div>\n",
       "<table border=\"1\" class=\"dataframe\">\n",
       "  <thead>\n",
       "    <tr style=\"text-align: right;\">\n",
       "      <th></th>\n",
       "      <th>prob</th>\n",
       "    </tr>\n",
       "    <tr>\n",
       "      <th>feat</th>\n",
       "      <th></th>\n",
       "    </tr>\n",
       "  </thead>\n",
       "  <tbody>\n",
       "    <tr>\n",
       "      <th>specialty_anesthesiology</th>\n",
       "      <td>0.883438</td>\n",
       "    </tr>\n",
       "    <tr>\n",
       "      <th>specialty_interventional_pain_management</th>\n",
       "      <td>0.881784</td>\n",
       "    </tr>\n",
       "    <tr>\n",
       "      <th>specialty_rheumatology</th>\n",
       "      <td>0.869178</td>\n",
       "    </tr>\n",
       "    <tr>\n",
       "      <th>specialty_pain_management</th>\n",
       "      <td>0.867659</td>\n",
       "    </tr>\n",
       "    <tr>\n",
       "      <th>carisoprodol</th>\n",
       "      <td>0.862213</td>\n",
       "    </tr>\n",
       "    <tr>\n",
       "      <th>specialty_infectious_disease</th>\n",
       "      <td>0.846161</td>\n",
       "    </tr>\n",
       "    <tr>\n",
       "      <th>specialty_hematology_oncology</th>\n",
       "      <td>0.838012</td>\n",
       "    </tr>\n",
       "    <tr>\n",
       "      <th>hydroxychloroquine_sulfate</th>\n",
       "      <td>0.837919</td>\n",
       "    </tr>\n",
       "    <tr>\n",
       "      <th>specialty_physical_medicine_and_rehabilitation</th>\n",
       "      <td>0.830444</td>\n",
       "    </tr>\n",
       "    <tr>\n",
       "      <th>specialty_medical_oncology</th>\n",
       "      <td>0.795607</td>\n",
       "    </tr>\n",
       "    <tr>\n",
       "      <th>diazepam</th>\n",
       "      <td>0.763422</td>\n",
       "    </tr>\n",
       "    <tr>\n",
       "      <th>gabapentin</th>\n",
       "      <td>0.755193</td>\n",
       "    </tr>\n",
       "    <tr>\n",
       "      <th>alprazolam</th>\n",
       "      <td>0.749929</td>\n",
       "    </tr>\n",
       "    <tr>\n",
       "      <th>specialty_hospice_and_palliative_care</th>\n",
       "      <td>0.729780</td>\n",
       "    </tr>\n",
       "    <tr>\n",
       "      <th>specialty_general_practice</th>\n",
       "      <td>0.720235</td>\n",
       "    </tr>\n",
       "    <tr>\n",
       "      <th>specialty_family_practice</th>\n",
       "      <td>0.712209</td>\n",
       "    </tr>\n",
       "    <tr>\n",
       "      <th>tizanidine_hcl</th>\n",
       "      <td>0.707755</td>\n",
       "    </tr>\n",
       "    <tr>\n",
       "      <th>levothyroxine_sodium</th>\n",
       "      <td>0.702330</td>\n",
       "    </tr>\n",
       "    <tr>\n",
       "      <th>specialty_hematology</th>\n",
       "      <td>0.702322</td>\n",
       "    </tr>\n",
       "    <tr>\n",
       "      <th>cyclobenzaprine_hcl</th>\n",
       "      <td>0.699138</td>\n",
       "    </tr>\n",
       "    <tr>\n",
       "      <th>state_AK</th>\n",
       "      <td>0.685593</td>\n",
       "    </tr>\n",
       "    <tr>\n",
       "      <th>lorazepam</th>\n",
       "      <td>0.685494</td>\n",
       "    </tr>\n",
       "    <tr>\n",
       "      <th>pregabalin</th>\n",
       "      <td>0.684420</td>\n",
       "    </tr>\n",
       "    <tr>\n",
       "      <th>fluconazole</th>\n",
       "      <td>0.674277</td>\n",
       "    </tr>\n",
       "    <tr>\n",
       "      <th>specialty_internal_medicine</th>\n",
       "      <td>0.658378</td>\n",
       "    </tr>\n",
       "    <tr>\n",
       "      <th>specialty_neurology</th>\n",
       "      <td>0.655088</td>\n",
       "    </tr>\n",
       "    <tr>\n",
       "      <th>nitroglycerin</th>\n",
       "      <td>0.647003</td>\n",
       "    </tr>\n",
       "    <tr>\n",
       "      <th>state_MT</th>\n",
       "      <td>0.637587</td>\n",
       "    </tr>\n",
       "    <tr>\n",
       "      <th>specialty_nephrology</th>\n",
       "      <td>0.633181</td>\n",
       "    </tr>\n",
       "    <tr>\n",
       "      <th>state_VT</th>\n",
       "      <td>0.630085</td>\n",
       "    </tr>\n",
       "    <tr>\n",
       "      <th>pramipexole_di_hcl</th>\n",
       "      <td>0.629965</td>\n",
       "    </tr>\n",
       "    <tr>\n",
       "      <th>thyroid_pork</th>\n",
       "      <td>0.624364</td>\n",
       "    </tr>\n",
       "    <tr>\n",
       "      <th>diphenoxylate_hcl_atropine</th>\n",
       "      <td>0.619729</td>\n",
       "    </tr>\n",
       "    <tr>\n",
       "      <th>state_UT</th>\n",
       "      <td>0.618073</td>\n",
       "    </tr>\n",
       "    <tr>\n",
       "      <th>duloxetine_hcl</th>\n",
       "      <td>0.612297</td>\n",
       "    </tr>\n",
       "    <tr>\n",
       "      <th>zolpidem_tartrate</th>\n",
       "      <td>0.608851</td>\n",
       "    </tr>\n",
       "    <tr>\n",
       "      <th>baclofen</th>\n",
       "      <td>0.606893</td>\n",
       "    </tr>\n",
       "    <tr>\n",
       "      <th>state_KS</th>\n",
       "      <td>0.604410</td>\n",
       "    </tr>\n",
       "    <tr>\n",
       "      <th>spironolactone</th>\n",
       "      <td>0.598733</td>\n",
       "    </tr>\n",
       "    <tr>\n",
       "      <th>omeprazole</th>\n",
       "      <td>0.598447</td>\n",
       "    </tr>\n",
       "    <tr>\n",
       "      <th>polyethylene_glycol_3350</th>\n",
       "      <td>0.596018</td>\n",
       "    </tr>\n",
       "    <tr>\n",
       "      <th>state_NM</th>\n",
       "      <td>0.595495</td>\n",
       "    </tr>\n",
       "    <tr>\n",
       "      <th>specialty_specialist</th>\n",
       "      <td>0.595306</td>\n",
       "    </tr>\n",
       "    <tr>\n",
       "      <th>promethazine_hcl</th>\n",
       "      <td>0.592998</td>\n",
       "    </tr>\n",
       "    <tr>\n",
       "      <th>state_CO</th>\n",
       "      <td>0.592805</td>\n",
       "    </tr>\n",
       "    <tr>\n",
       "      <th>pioglitazone_hcl</th>\n",
       "      <td>0.590163</td>\n",
       "    </tr>\n",
       "    <tr>\n",
       "      <th>ropinirole_hcl</th>\n",
       "      <td>0.588334</td>\n",
       "    </tr>\n",
       "    <tr>\n",
       "      <th>topiramate</th>\n",
       "      <td>0.587936</td>\n",
       "    </tr>\n",
       "    <tr>\n",
       "      <th>nystatin</th>\n",
       "      <td>0.587101</td>\n",
       "    </tr>\n",
       "    <tr>\n",
       "      <th>specialty_osteopathic_manipulative_medicine</th>\n",
       "      <td>0.586196</td>\n",
       "    </tr>\n",
       "  </tbody>\n",
       "</table>\n",
       "</div>"
      ],
      "text/plain": [
       "                                                    prob\n",
       "feat                                                    \n",
       "specialty_anesthesiology                        0.883438\n",
       "specialty_interventional_pain_management        0.881784\n",
       "specialty_rheumatology                          0.869178\n",
       "specialty_pain_management                       0.867659\n",
       "carisoprodol                                    0.862213\n",
       "specialty_infectious_disease                    0.846161\n",
       "specialty_hematology_oncology                   0.838012\n",
       "hydroxychloroquine_sulfate                      0.837919\n",
       "specialty_physical_medicine_and_rehabilitation  0.830444\n",
       "specialty_medical_oncology                      0.795607\n",
       "diazepam                                        0.763422\n",
       "gabapentin                                      0.755193\n",
       "alprazolam                                      0.749929\n",
       "specialty_hospice_and_palliative_care           0.729780\n",
       "specialty_general_practice                      0.720235\n",
       "specialty_family_practice                       0.712209\n",
       "tizanidine_hcl                                  0.707755\n",
       "levothyroxine_sodium                            0.702330\n",
       "specialty_hematology                            0.702322\n",
       "cyclobenzaprine_hcl                             0.699138\n",
       "state_AK                                        0.685593\n",
       "lorazepam                                       0.685494\n",
       "pregabalin                                      0.684420\n",
       "fluconazole                                     0.674277\n",
       "specialty_internal_medicine                     0.658378\n",
       "specialty_neurology                             0.655088\n",
       "nitroglycerin                                   0.647003\n",
       "state_MT                                        0.637587\n",
       "specialty_nephrology                            0.633181\n",
       "state_VT                                        0.630085\n",
       "pramipexole_di_hcl                              0.629965\n",
       "thyroid_pork                                    0.624364\n",
       "diphenoxylate_hcl_atropine                      0.619729\n",
       "state_UT                                        0.618073\n",
       "duloxetine_hcl                                  0.612297\n",
       "zolpidem_tartrate                               0.608851\n",
       "baclofen                                        0.606893\n",
       "state_KS                                        0.604410\n",
       "spironolactone                                  0.598733\n",
       "omeprazole                                      0.598447\n",
       "polyethylene_glycol_3350                        0.596018\n",
       "state_NM                                        0.595495\n",
       "specialty_specialist                            0.595306\n",
       "promethazine_hcl                                0.592998\n",
       "state_CO                                        0.592805\n",
       "pioglitazone_hcl                                0.590163\n",
       "ropinirole_hcl                                  0.588334\n",
       "topiramate                                      0.587936\n",
       "nystatin                                        0.587101\n",
       "specialty_osteopathic_manipulative_medicine     0.586196"
      ]
     },
     "execution_count": 33,
     "metadata": {},
     "output_type": "execute_result"
    }
   ],
   "source": [
    "prob_table[:50]"
   ]
  },
  {
   "cell_type": "code",
   "execution_count": 34,
   "metadata": {
    "collapsed": true
   },
   "outputs": [],
   "source": [
    "with open('results/best_prob_estimate.pickle', 'wb') as f:\n",
    "    pickle.dump(prob_table, f)\n",
    "    f.close"
   ]
  },
  {
   "cell_type": "code",
   "execution_count": null,
   "metadata": {
    "collapsed": true
   },
   "outputs": [],
   "source": []
  },
  {
   "cell_type": "code",
   "execution_count": null,
   "metadata": {
    "collapsed": true
   },
   "outputs": [],
   "source": []
  },
  {
   "cell_type": "code",
   "execution_count": null,
   "metadata": {
    "collapsed": true
   },
   "outputs": [],
   "source": []
  },
  {
   "cell_type": "code",
   "execution_count": null,
   "metadata": {
    "collapsed": true
   },
   "outputs": [],
   "source": []
  },
  {
   "cell_type": "code",
   "execution_count": null,
   "metadata": {
    "collapsed": true
   },
   "outputs": [],
   "source": []
  },
  {
   "cell_type": "code",
   "execution_count": null,
   "metadata": {
    "collapsed": true
   },
   "outputs": [],
   "source": []
  },
  {
   "cell_type": "code",
   "execution_count": null,
   "metadata": {
    "collapsed": true
   },
   "outputs": [],
   "source": []
  },
  {
   "cell_type": "code",
   "execution_count": null,
   "metadata": {
    "collapsed": true
   },
   "outputs": [],
   "source": []
  },
  {
   "cell_type": "code",
   "execution_count": null,
   "metadata": {
    "collapsed": true
   },
   "outputs": [],
   "source": []
  }
 ],
 "metadata": {
  "kernelspec": {
   "display_name": "Python 3",
   "language": "python",
   "name": "python3"
  },
  "language_info": {
   "codemirror_mode": {
    "name": "ipython",
    "version": 3
   },
   "file_extension": ".py",
   "mimetype": "text/x-python",
   "name": "python",
   "nbconvert_exporter": "python",
   "pygments_lexer": "ipython3",
   "version": "3.5.3"
  }
 },
 "nbformat": 4,
 "nbformat_minor": 2
}
